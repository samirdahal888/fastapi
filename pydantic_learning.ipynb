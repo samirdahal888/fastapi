{
 "cells": [
  {
   "cell_type": "markdown",
   "id": "b0e8506b",
   "metadata": {},
   "source": [
    "# Pydantic\n",
    "- Pydantic is a python library that helps you create data models with automatic validation using python type hints"
   ]
  },
  {
   "cell_type": "markdown",
   "id": "1de3703c",
   "metadata": {},
   "source": [
    "# why we need pydantic ?\n",
    "- It solves two big problems"
   ]
  },
  {
   "cell_type": "code",
   "execution_count": null,
   "id": "78b7ee01",
   "metadata": {},
   "outputs": [],
   "source": [
    "# example 1 , function to insert data into database \n",
    "def insert_patient_data(name,age):\n",
    "    print(name)\n",
    "    print(age)\n",
    "    print(\"insert into database\")"
   ]
  },
  {
   "cell_type": "code",
   "execution_count": null,
   "id": "1b29d538",
   "metadata": {},
   "outputs": [
    {
     "name": "stdout",
     "output_type": "stream",
     "text": [
      "samir\n",
      "twentytwo\n",
      "insert into database\n"
     ]
    }
   ],
   "source": [
    "# we are expecting that the name shoud be str and gae should be int ,but someone snd data like this\n",
    "# but there is no error code execute succesfully\n",
    "insert_patient_data('samir','twentytwo')\n",
    "# this is one of the biggest failure because we are not able to do type validation here\n",
    "#if we are inserting data into database then we have to follow proper scama like name should be str gae should be int like that , but here we are not able to do that\n",
    "# this is the problem of python there is dynamic typing , no static typing\n",
    "\n"
   ]
  },
  {
   "cell_type": "markdown",
   "id": "6ddf90e6",
   "metadata": {},
   "source": [
    "# so what can we do so solve this above probelm ?\n",
    "- one solution is we can use type hinting"
   ]
  },
  {
   "cell_type": "code",
   "execution_count": 5,
   "id": "9abfddc7",
   "metadata": {},
   "outputs": [],
   "source": [
    "def insert_patient_data(name:str,age:int)->None: #name should be str , age should be int and function return None\n",
    "    print(name)\n",
    "    print(age)\n",
    "    print(\"insert into database\")"
   ]
  },
  {
   "cell_type": "code",
   "execution_count": 6,
   "id": "e95ac4e5",
   "metadata": {},
   "outputs": [
    {
     "name": "stdout",
     "output_type": "stream",
     "text": [
      "samir\n",
      "22\n",
      "insert into database\n"
     ]
    }
   ],
   "source": [
    "#Now when we  insert data into the function as a parameter we can see that typhints and we can insert expected value\n",
    "insert_patient_data('samir',22)"
   ]
  },
  {
   "cell_type": "code",
   "execution_count": 7,
   "id": "dd5cd196",
   "metadata": {},
   "outputs": [
    {
     "name": "stdout",
     "output_type": "stream",
     "text": [
      "samir\n",
      "22\n",
      "insert into database\n"
     ]
    }
   ],
   "source": [
    "# But what if some one still do the mistake here and they pass str again\n",
    "insert_patient_data('samir','22') #Then also code will work typhints are just a hints they dont produce error"
   ]
  },
  {
   "cell_type": "markdown",
   "id": "39ac6c66",
   "metadata": {},
   "source": [
    "# so problem is still same , we are not able to inforce that name should be str and age should be int"
   ]
  },
  {
   "cell_type": "code",
   "execution_count": 10,
   "id": "59e2a11c",
   "metadata": {},
   "outputs": [],
   "source": [
    "# what we can do is we can check the value inside the function manually and achive this \n",
    "def insert_patient_data(name:str,age:int)->None: #name should be str , age should be int and function return None\n",
    "    if type(name)== str and type(age)==int:\n",
    "        print(name)\n",
    "        print(age)\n",
    "        print(\"insert into database\")\n",
    "    else: \n",
    "        raise TypeError(\"Invalid type provided\")"
   ]
  },
  {
   "cell_type": "code",
   "execution_count": 11,
   "id": "0fd3faec",
   "metadata": {},
   "outputs": [
    {
     "ename": "TypeError",
     "evalue": "Invalid type provided",
     "output_type": "error",
     "traceback": [
      "\u001b[31m---------------------------------------------------------------------------\u001b[39m",
      "\u001b[31mTypeError\u001b[39m                                 Traceback (most recent call last)",
      "\u001b[36mCell\u001b[39m\u001b[36m \u001b[39m\u001b[32mIn[11]\u001b[39m\u001b[32m, line 2\u001b[39m\n\u001b[32m      1\u001b[39m \u001b[38;5;66;03m# now if a try  to insert data in some another format then it will rise and error\u001b[39;00m\n\u001b[32m----> \u001b[39m\u001b[32m2\u001b[39m \u001b[43minsert_patient_data\u001b[49m\u001b[43m(\u001b[49m\u001b[33;43m'\u001b[39;49m\u001b[33;43msamir\u001b[39;49m\u001b[33;43m'\u001b[39;49m\u001b[43m,\u001b[49m\u001b[33;43m'\u001b[39;49m\u001b[33;43m30\u001b[39;49m\u001b[33;43m'\u001b[39;49m\u001b[43m)\u001b[49m\n",
      "\u001b[36mCell\u001b[39m\u001b[36m \u001b[39m\u001b[32mIn[10]\u001b[39m\u001b[32m, line 8\u001b[39m, in \u001b[36minsert_patient_data\u001b[39m\u001b[34m(name, age)\u001b[39m\n\u001b[32m      6\u001b[39m     \u001b[38;5;28mprint\u001b[39m(\u001b[33m\"\u001b[39m\u001b[33minsert into database\u001b[39m\u001b[33m\"\u001b[39m)\n\u001b[32m      7\u001b[39m \u001b[38;5;28;01melse\u001b[39;00m: \n\u001b[32m----> \u001b[39m\u001b[32m8\u001b[39m     \u001b[38;5;28;01mraise\u001b[39;00m \u001b[38;5;167;01mTypeError\u001b[39;00m(\u001b[33m\"\u001b[39m\u001b[33mInvalid type provided\u001b[39m\u001b[33m\"\u001b[39m)\n",
      "\u001b[31mTypeError\u001b[39m: Invalid type provided"
     ]
    }
   ],
   "source": [
    "# now if a try  to insert data in some another format then it will rise and error\n",
    "insert_patient_data('samir','30')"
   ]
  },
  {
   "cell_type": "code",
   "execution_count": 12,
   "id": "8c4fe484",
   "metadata": {},
   "outputs": [
    {
     "name": "stdout",
     "output_type": "stream",
     "text": [
      "samir\n",
      "22\n",
      "insert into database\n"
     ]
    }
   ],
   "source": [
    "# I have to provide name in str and age in int then only data will insert into database\n",
    "insert_patient_data('samir',22)"
   ]
  },
  {
   "cell_type": "markdown",
   "id": "56aa3646",
   "metadata": {},
   "source": [
    "## Like this we sholve but this is not a good way to do this Because:\n",
    "\n",
    "- it is not scalable "
   ]
  },
  {
   "cell_type": "code",
   "execution_count": 13,
   "id": "892c30a4",
   "metadata": {},
   "outputs": [],
   "source": [
    "def update_patient_data(name:str,age:int)->None: #name should be str , age should be int and function return None\n",
    "    if type(name)== str and type(age)==int:\n",
    "        print(name)\n",
    "        print(age)\n",
    "        print(\"update into database\")\n",
    "    else: \n",
    "        raise TypeError(\"Invalid type provided\")\n"
   ]
  },
  {
   "cell_type": "code",
   "execution_count": 14,
   "id": "ce88f36e",
   "metadata": {},
   "outputs": [
    {
     "name": "stdout",
     "output_type": "stream",
     "text": [
      "samir\n",
      "33\n",
      "update into database\n"
     ]
    }
   ],
   "source": [
    "# calling function\n",
    "update_patient_data('samir',33)"
   ]
  },
  {
   "cell_type": "markdown",
   "id": "f96536f1",
   "metadata": {},
   "source": [
    "- so for update also we have to write the same logic , if we have many function like this then we have to perform check in every function\n",
    "\n",
    "- and if we have some move values to check then we have to check a lot of vlaues , lets say we have weight paremeter as well that should be flot then:"
   ]
  },
  {
   "cell_type": "code",
   "execution_count": null,
   "id": "e9714198",
   "metadata": {},
   "outputs": [],
   "source": [
    "# if we have to update the weight parameter as well which should be in float then we have to check for that also\n",
    "def update_patient_data(name:str,age:int,weight:float)->None: #name should be str , age should be int and function return None\n",
    "    if type(name)== str and type(age)==int and type(weight)==float: # like this we have to cehk for all\n",
    "        print(name)\n",
    "        print(age)\n",
    "        print(\"update into database\")\n",
    "    else: \n",
    "        raise TypeError(\"Invalid type provided\")\n",
    "    \n",
    "    \n"
   ]
  },
  {
   "cell_type": "markdown",
   "id": "a261eb3e",
   "metadata": {},
   "source": [
    "# so this is the first problem that solve by the pydantic\n",
    "\n",
    "- type validation is not availabe in python  so we have to do manual check , \n",
    "\n",
    "- Pydantic solve it and do type validation easily"
   ]
  },
  {
   "cell_type": "markdown",
   "id": "99f6fffe",
   "metadata": {},
   "source": [
    "# Problem no 2 is Data validation\n",
    "- If we have specific requirement of our variable then how we can check them\n",
    "\n",
    "- Like age should be > 0 , it hsould not be negative"
   ]
  },
  {
   "cell_type": "code",
   "execution_count": 16,
   "id": "0982e470",
   "metadata": {},
   "outputs": [],
   "source": [
    "def update_patient_data(name:str,age:int,weight:float)->None: #name should be str , age should be int and function return None\n",
    "    if type(name)== str and type(age)==int and type(weight)==float: # like this we have to cehk for all\n",
    "        if age < 0: # we have to check like this\n",
    "            raise ValueError(\"age should be positive\")\n",
    "        print(name)\n",
    "        print(age)\n",
    "        print(\"update into database\")\n",
    "    else: \n",
    "        raise TypeError(\"Invalid type provided\")\n",
    "    \n",
    "    # so here also problem is same if we have to do many data validation then we have to do this many time , which is not good\n",
    "    \n"
   ]
  },
  {
   "cell_type": "markdown",
   "id": "3fafa751",
   "metadata": {},
   "source": [
    "- So to write a good function that works fine in production we have to write a lot of manual code we have to do lot of type validation  and data validation"
   ]
  },
  {
   "cell_type": "markdown",
   "id": "5001fb74",
   "metadata": {},
   "source": [
    "# Pydantic solve this two problems\n",
    "- it insure that there will  be no any issue related to\n",
    " - type validtion\n",
    " - datavalidtion"
   ]
  },
  {
   "cell_type": "markdown",
   "id": "a9dc3385",
   "metadata": {},
   "source": [
    "# So now lets see how pydantic solve this and help us to write better code"
   ]
  },
  {
   "cell_type": "markdown",
   "id": "cca8058d",
   "metadata": {},
   "source": [
    "## Pydantic work in three steps\n",
    " ### 1 . Define a Pydantic model (class) that represent the ideal schema of the data.\n",
    "   - This includes the expected fields , their types,and validation constraints (eg, gt=0 for positive number)\n",
    "\n",
    " ### 2 . Instantiate the model with raw input data (usually a dictionary or json-like structure)\n",
    "   - Pydantic will automatically validate the data and coerce it into the correct Python types(if possible)\n",
    "\n",
    "   - If the data doesn't meet the model's requirements.Pydantic raises a ValidationError\n",
    "\n",
    "     - we get pydantic object\n",
    "\n",
    " ### 3.Pass the validate model object to functions or use it throughout your codebase\n",
    "\n",
    "   - This ensure that every part of your program works with clean, type-safe, and logically valid data .\n"
   ]
  },
  {
   "cell_type": "markdown",
   "id": "f49e8ebd",
   "metadata": {},
   "source": [
    "# Type validation"
   ]
  },
  {
   "cell_type": "code",
   "execution_count": 18,
   "id": "db9d042a",
   "metadata": {},
   "outputs": [
    {
     "name": "stdout",
     "output_type": "stream",
     "text": [
      "samir\n",
      "22\n",
      "insert into database\n"
     ]
    }
   ],
   "source": [
    "# lets see the example\n",
    "# lets go steps by step to use pydantic as mention above\n",
    "\n",
    "#step 1  ( making pydantic model)\n",
    "from pydantic import BaseModel\n",
    "class Patient(BaseModel): # class should inherite the BaseModel , then only your class is pydantic class\n",
    "    #define the schema\n",
    "    # we are performing type validation\n",
    "    name: str #name should always be str\n",
    "    age : int # age should always be int\n",
    "\n",
    "\n",
    "\n",
    "\n",
    "    \n",
    "def insert_patient_data(patient:Patient):\n",
    "    print(patient.name)\n",
    "    print(patient.age)\n",
    "    print(\"insert into database\")\n",
    "\n",
    "#making one dictionary because we pass dictionary to the pydantic model for validaton\n",
    "patient_info = {'name':'samir','age':22}\n",
    "\n",
    "# step2 (making object of pydantic class and passing dictionary(value for validation))\n",
    "patient = Patient(**patient_info)\n",
    "# first our pydantic rule we define above is is applied to the dictionary we pass to it\n",
    "# if it data is correct then we git the patient object , if not we get an error\n",
    "\n",
    "#step3 : passing pydantic object to our function\n",
    "insert_patient_data(patient)"
   ]
  },
  {
   "cell_type": "markdown",
   "id": "10f259e5",
   "metadata": {},
   "source": [
    "- Now if i change the type of our input then we got an error "
   ]
  },
  {
   "cell_type": "code",
   "execution_count": 19,
   "id": "188a4b0f",
   "metadata": {},
   "outputs": [
    {
     "ename": "ValidationError",
     "evalue": "1 validation error for Patient\nage\n  Input should be a valid integer, unable to parse string as an integer [type=int_parsing, input_value='thirty', input_type=str]\n    For further information visit https://errors.pydantic.dev/2.11/v/int_parsing",
     "output_type": "error",
     "traceback": [
      "\u001b[31m---------------------------------------------------------------------------\u001b[39m",
      "\u001b[31mValidationError\u001b[39m                           Traceback (most recent call last)",
      "\u001b[36mCell\u001b[39m\u001b[36m \u001b[39m\u001b[32mIn[19]\u001b[39m\u001b[32m, line 25\u001b[39m\n\u001b[32m     22\u001b[39m patient_info = {\u001b[33m'\u001b[39m\u001b[33mname\u001b[39m\u001b[33m'\u001b[39m:\u001b[33m'\u001b[39m\u001b[33msamir\u001b[39m\u001b[33m'\u001b[39m,\u001b[33m'\u001b[39m\u001b[33mage\u001b[39m\u001b[33m'\u001b[39m:\u001b[33m'\u001b[39m\u001b[33mthirty\u001b[39m\u001b[33m'\u001b[39m} \u001b[38;5;66;03m# changing age to str\u001b[39;00m\n\u001b[32m     24\u001b[39m \u001b[38;5;66;03m# step2 (making object of pydantic class and passing dictionary(value for validation))\u001b[39;00m\n\u001b[32m---> \u001b[39m\u001b[32m25\u001b[39m patient = \u001b[43mPatient\u001b[49m\u001b[43m(\u001b[49m\u001b[43m*\u001b[49m\u001b[43m*\u001b[49m\u001b[43mpatient_info\u001b[49m\u001b[43m)\u001b[49m\n\u001b[32m     26\u001b[39m \u001b[38;5;66;03m# first our pydantic rule we define above is is applied to the dictionary we pass to it\u001b[39;00m\n\u001b[32m     27\u001b[39m \u001b[38;5;66;03m# if it data is correct then we git the patient object , if not we get an error\u001b[39;00m\n\u001b[32m     28\u001b[39m \n\u001b[32m     29\u001b[39m \u001b[38;5;66;03m#step3 : passing pydantic object to our function\u001b[39;00m\n\u001b[32m     30\u001b[39m insert_patient_data(patient)\n",
      "\u001b[36mFile \u001b[39m\u001b[32m~/fastapi/myenv/lib/python3.12/site-packages/pydantic/main.py:253\u001b[39m, in \u001b[36mBaseModel.__init__\u001b[39m\u001b[34m(self, **data)\u001b[39m\n\u001b[32m    251\u001b[39m \u001b[38;5;66;03m# `__tracebackhide__` tells pytest and some other tools to omit this function from tracebacks\u001b[39;00m\n\u001b[32m    252\u001b[39m __tracebackhide__ = \u001b[38;5;28;01mTrue\u001b[39;00m\n\u001b[32m--> \u001b[39m\u001b[32m253\u001b[39m validated_self = \u001b[38;5;28;43mself\u001b[39;49m\u001b[43m.\u001b[49m\u001b[43m__pydantic_validator__\u001b[49m\u001b[43m.\u001b[49m\u001b[43mvalidate_python\u001b[49m\u001b[43m(\u001b[49m\u001b[43mdata\u001b[49m\u001b[43m,\u001b[49m\u001b[43m \u001b[49m\u001b[43mself_instance\u001b[49m\u001b[43m=\u001b[49m\u001b[38;5;28;43mself\u001b[39;49m\u001b[43m)\u001b[49m\n\u001b[32m    254\u001b[39m \u001b[38;5;28;01mif\u001b[39;00m \u001b[38;5;28mself\u001b[39m \u001b[38;5;129;01mis\u001b[39;00m \u001b[38;5;129;01mnot\u001b[39;00m validated_self:\n\u001b[32m    255\u001b[39m     warnings.warn(\n\u001b[32m    256\u001b[39m         \u001b[33m'\u001b[39m\u001b[33mA custom validator is returning a value other than `self`.\u001b[39m\u001b[38;5;130;01m\\n\u001b[39;00m\u001b[33m'\u001b[39m\n\u001b[32m    257\u001b[39m         \u001b[33m\"\u001b[39m\u001b[33mReturning anything other than `self` from a top level model validator isn\u001b[39m\u001b[33m'\u001b[39m\u001b[33mt supported when validating via `__init__`.\u001b[39m\u001b[38;5;130;01m\\n\u001b[39;00m\u001b[33m\"\u001b[39m\n\u001b[32m    258\u001b[39m         \u001b[33m'\u001b[39m\u001b[33mSee the `model_validator` docs (https://docs.pydantic.dev/latest/concepts/validators/#model-validators) for more details.\u001b[39m\u001b[33m'\u001b[39m,\n\u001b[32m    259\u001b[39m         stacklevel=\u001b[32m2\u001b[39m,\n\u001b[32m    260\u001b[39m     )\n",
      "\u001b[31mValidationError\u001b[39m: 1 validation error for Patient\nage\n  Input should be a valid integer, unable to parse string as an integer [type=int_parsing, input_value='thirty', input_type=str]\n    For further information visit https://errors.pydantic.dev/2.11/v/int_parsing"
     ]
    }
   ],
   "source": [
    "# lets see the example\n",
    "# lets go steps by step to use pydantic as mention above\n",
    "\n",
    "#step 1  ( making pydantic model)\n",
    "from pydantic import BaseModel\n",
    "class Patient(BaseModel): # class should inherite the BaseModel , then only your class is pydantic class\n",
    "    #define the schema\n",
    "    # we are performing type validation\n",
    "    name: str #name should always be str\n",
    "    age : int # age should always be int\n",
    "\n",
    "\n",
    "\n",
    "\n",
    "    \n",
    "def insert_patient_data(patient:Patient):\n",
    "    print(patient.name)\n",
    "    print(patient.age)\n",
    "    print(\"insert into database\")\n",
    "\n",
    "#making one dictionary because we pass dictionary to the pydantic model for validaton\n",
    "patient_info = {'name':'samir','age':'thirty'} # changing age to str\n",
    "\n",
    "# step2 (making object of pydantic class and passing dictionary(value for validation))\n",
    "patient = Patient(**patient_info)\n",
    "# first our pydantic rule we define above is is applied to the dictionary we pass to it\n",
    "# if it data is correct then we git the patient object , if not we get an error\n",
    "\n",
    "#step3 : passing pydantic object to our function\n",
    "insert_patient_data(patient)"
   ]
  },
  {
   "cell_type": "markdown",
   "id": "1d907c13",
   "metadata": {},
   "source": [
    "- now if i want another function update the also i can pass pydntic object and it will handel all validation stuff"
   ]
  },
  {
   "cell_type": "code",
   "execution_count": 20,
   "id": "841448a7",
   "metadata": {},
   "outputs": [
    {
     "name": "stdout",
     "output_type": "stream",
     "text": [
      "samir\n",
      "22\n",
      "insert into database\n",
      "samir\n",
      "22\n",
      "update into database\n"
     ]
    }
   ],
   "source": [
    "# lets see the example\n",
    "# lets go steps by step to use pydantic as mention above\n",
    "\n",
    "#step 1  ( making pydantic model)\n",
    "from pydantic import BaseModel\n",
    "class Patient(BaseModel): # class should inherite the BaseModel , then only your class is pydantic class\n",
    "    #define the schema\n",
    "    # we are performing type validation\n",
    "    name: str #name should always be str\n",
    "    age : int # age should always be int\n",
    "\n",
    "\n",
    "\n",
    "\n",
    "    \n",
    "def insert_patient_data(patient:Patient):\n",
    "    print(patient.name)\n",
    "    print(patient.age)\n",
    "    print(\"insert into database\")\n",
    "def update_patient_data(patient:Patient):\n",
    "    print(patient.name)\n",
    "    print(patient.age)\n",
    "    print(\"update into database\")\n",
    "\n",
    "#making one dictionary because we pass dictionary to the pydantic model for validaton\n",
    "patient_info = {'name':'samir','age':22}\n",
    "\n",
    "# step2 (making object of pydantic class and passing dictionary(value for validation))\n",
    "patient = Patient(**patient_info)\n",
    "# first our pydantic rule we define above is is applied to the dictionary we pass to it\n",
    "# if it data is correct then we git the patient object , if not we get an error\n",
    "\n",
    "#step3 : passing pydantic object to our function\n",
    "insert_patient_data(patient)\n",
    "update_patient_data(patient)"
   ]
  },
  {
   "cell_type": "markdown",
   "id": "8c2f1f13",
   "metadata": {},
   "source": [
    "## Now lets careate more big pydantic model"
   ]
  },
  {
   "cell_type": "code",
   "execution_count": 6,
   "id": "7caa72e4",
   "metadata": {},
   "outputs": [
    {
     "name": "stdout",
     "output_type": "stream",
     "text": [
      "nitish\n",
      "22\n",
      "insert\n",
      "nitish\n",
      "22\n",
      "{'email': 'samirdahal@gmail.com', 'ph_number': '999999999999'}\n",
      "['pollon', 'dust']\n",
      "insert\n"
     ]
    }
   ],
   "source": [
    "from pydantic import BaseModel\n",
    "from typing import List,Dict\n",
    "\n",
    "\n",
    "class Patient(BaseModel):\n",
    "    # we are adding more things to check \n",
    "    # we are making a bigger pydantic model\n",
    "\n",
    "    name: str\n",
    "    age : int\n",
    "    weight : float\n",
    "    married :bool\n",
    "    allergies: List[str] #allergies value should be list inside list every elemnet should be str\n",
    "\n",
    "    contact_details : Dict[str,str]  #contact_details Value should be  dic and kee and value should be str\n",
    "\n",
    "\n",
    "def insert_patient_data(patient: Patient):\n",
    "\n",
    "    print(patient.name)\n",
    "    print(patient.age)\n",
    "  \n",
    "    print('insert')\n",
    "\n",
    "def weight_patient_data(patient: Patient):\n",
    "\n",
    "    print(patient.name)\n",
    "    print(patient.age)\n",
    "    print(patient.contact_details)\n",
    "    print(patient.allergies)\n",
    "  \n",
    "    print('insert')\n",
    "\n",
    "patient_info = {'name':'nitish','age':22,'weight':75.2,'married':True,'allergies':['pollon','dust'],'contact_details': {'email':'samirdahal@gmail.com','ph_number':'999999999999'}}\n",
    "\n",
    "patient1 = Patient(**patient_info)\n",
    "\n",
    "insert_patient_data(patient1)\n",
    "weight_patient_data(patient1)"
   ]
  },
  {
   "cell_type": "markdown",
   "id": "b754effe",
   "metadata": {},
   "source": [
    "# Required and optional fields\n",
    " \n",
    " - when we make a pydantic model and add various filed all are required fields \n",
    "  \n",
    "    - if we dont pass value to the certain field then there will be an error\n"
   ]
  },
  {
   "cell_type": "code",
   "execution_count": 7,
   "id": "0f3259d7",
   "metadata": {},
   "outputs": [
    {
     "ename": "ValidationError",
     "evalue": "1 validation error for Patient\nname\n  Field required [type=missing, input_value={'age': 22, 'weight': 75....umber': '999999999999'}}, input_type=dict]\n    For further information visit https://errors.pydantic.dev/2.11/v/missing",
     "output_type": "error",
     "traceback": [
      "\u001b[31m---------------------------------------------------------------------------\u001b[39m",
      "\u001b[31mValidationError\u001b[39m                           Traceback (most recent call last)",
      "\u001b[36mCell\u001b[39m\u001b[36m \u001b[39m\u001b[32mIn[7]\u001b[39m\u001b[32m, line 38\u001b[39m\n\u001b[32m     34\u001b[39m \u001b[38;5;66;03m# patient_info = {'name':'nitish','age':22,'weight':75.2,'married':True,'allergies':['pollon','dust'],'contact_details': {'email':'samirdahal@gmail.com','ph_number':'999999999999'}}\u001b[39;00m\n\u001b[32m     35\u001b[39m \u001b[38;5;66;03m# here if we dont pas the name  or some other fileds to the model it will rise an error\u001b[39;00m\n\u001b[32m     36\u001b[39m patient_info = {\u001b[33m'\u001b[39m\u001b[33mage\u001b[39m\u001b[33m'\u001b[39m:\u001b[32m22\u001b[39m,\u001b[33m'\u001b[39m\u001b[33mweight\u001b[39m\u001b[33m'\u001b[39m:\u001b[32m75.2\u001b[39m,\u001b[33m'\u001b[39m\u001b[33mmarried\u001b[39m\u001b[33m'\u001b[39m:\u001b[38;5;28;01mTrue\u001b[39;00m,\u001b[33m'\u001b[39m\u001b[33mallergies\u001b[39m\u001b[33m'\u001b[39m:[\u001b[33m'\u001b[39m\u001b[33mpollon\u001b[39m\u001b[33m'\u001b[39m,\u001b[33m'\u001b[39m\u001b[33mdust\u001b[39m\u001b[33m'\u001b[39m],\u001b[33m'\u001b[39m\u001b[33mcontact_details\u001b[39m\u001b[33m'\u001b[39m: {\u001b[33m'\u001b[39m\u001b[33memail\u001b[39m\u001b[33m'\u001b[39m:\u001b[33m'\u001b[39m\u001b[33msamirdahal@gmail.com\u001b[39m\u001b[33m'\u001b[39m,\u001b[33m'\u001b[39m\u001b[33mph_number\u001b[39m\u001b[33m'\u001b[39m:\u001b[33m'\u001b[39m\u001b[33m999999999999\u001b[39m\u001b[33m'\u001b[39m}} \u001b[38;5;66;03m# i dont have name here\u001b[39;00m\n\u001b[32m---> \u001b[39m\u001b[32m38\u001b[39m patient1 = \u001b[43mPatient\u001b[49m\u001b[43m(\u001b[49m\u001b[43m*\u001b[49m\u001b[43m*\u001b[49m\u001b[43mpatient_info\u001b[49m\u001b[43m)\u001b[49m\n\u001b[32m     40\u001b[39m insert_patient_data(patient1)\n\u001b[32m     41\u001b[39m weight_patient_data(patient1)\n",
      "\u001b[36mFile \u001b[39m\u001b[32m~/fastapi/myenv/lib/python3.12/site-packages/pydantic/main.py:253\u001b[39m, in \u001b[36mBaseModel.__init__\u001b[39m\u001b[34m(self, **data)\u001b[39m\n\u001b[32m    251\u001b[39m \u001b[38;5;66;03m# `__tracebackhide__` tells pytest and some other tools to omit this function from tracebacks\u001b[39;00m\n\u001b[32m    252\u001b[39m __tracebackhide__ = \u001b[38;5;28;01mTrue\u001b[39;00m\n\u001b[32m--> \u001b[39m\u001b[32m253\u001b[39m validated_self = \u001b[38;5;28;43mself\u001b[39;49m\u001b[43m.\u001b[49m\u001b[43m__pydantic_validator__\u001b[49m\u001b[43m.\u001b[49m\u001b[43mvalidate_python\u001b[49m\u001b[43m(\u001b[49m\u001b[43mdata\u001b[49m\u001b[43m,\u001b[49m\u001b[43m \u001b[49m\u001b[43mself_instance\u001b[49m\u001b[43m=\u001b[49m\u001b[38;5;28;43mself\u001b[39;49m\u001b[43m)\u001b[49m\n\u001b[32m    254\u001b[39m \u001b[38;5;28;01mif\u001b[39;00m \u001b[38;5;28mself\u001b[39m \u001b[38;5;129;01mis\u001b[39;00m \u001b[38;5;129;01mnot\u001b[39;00m validated_self:\n\u001b[32m    255\u001b[39m     warnings.warn(\n\u001b[32m    256\u001b[39m         \u001b[33m'\u001b[39m\u001b[33mA custom validator is returning a value other than `self`.\u001b[39m\u001b[38;5;130;01m\\n\u001b[39;00m\u001b[33m'\u001b[39m\n\u001b[32m    257\u001b[39m         \u001b[33m\"\u001b[39m\u001b[33mReturning anything other than `self` from a top level model validator isn\u001b[39m\u001b[33m'\u001b[39m\u001b[33mt supported when validating via `__init__`.\u001b[39m\u001b[38;5;130;01m\\n\u001b[39;00m\u001b[33m\"\u001b[39m\n\u001b[32m    258\u001b[39m         \u001b[33m'\u001b[39m\u001b[33mSee the `model_validator` docs (https://docs.pydantic.dev/latest/concepts/validators/#model-validators) for more details.\u001b[39m\u001b[33m'\u001b[39m,\n\u001b[32m    259\u001b[39m         stacklevel=\u001b[32m2\u001b[39m,\n\u001b[32m    260\u001b[39m     )\n",
      "\u001b[31mValidationError\u001b[39m: 1 validation error for Patient\nname\n  Field required [type=missing, input_value={'age': 22, 'weight': 75....umber': '999999999999'}}, input_type=dict]\n    For further information visit https://errors.pydantic.dev/2.11/v/missing"
     ]
    }
   ],
   "source": [
    "from pydantic import BaseModel\n",
    "from typing import List,Dict\n",
    "\n",
    "\n",
    "class Patient(BaseModel):\n",
    "    # we are adding more things to check \n",
    "    # we are making a bigger pydantic model\n",
    "\n",
    "    name: str\n",
    "    age : int\n",
    "    weight : float\n",
    "    married :bool\n",
    "    allergies: List[str] #allergies value should be list inside list every elemnet should be str\n",
    "\n",
    "    contact_details : Dict[str,str]  #contact_details Value should be  dic and kee and value should be str\n",
    "\n",
    "\n",
    "def insert_patient_data(patient: Patient):\n",
    "\n",
    "    print(patient.name)\n",
    "    print(patient.age)\n",
    "  \n",
    "    print('insert')\n",
    "\n",
    "def weight_patient_data(patient: Patient):\n",
    "\n",
    "    print(patient.name)\n",
    "    print(patient.age)\n",
    "    print(patient.contact_details)\n",
    "    print(patient.allergies)\n",
    "  \n",
    "    print('insert')\n",
    "\n",
    "# patient_info = {'name':'nitish','age':22,'weight':75.2,'married':True,'allergies':['pollon','dust'],'contact_details': {'email':'samirdahal@gmail.com','ph_number':'999999999999'}}\n",
    "# here if we dont pas the name  or some other fileds to the model it will rise an error\n",
    "patient_info = {'age':22,'weight':75.2,'married':True,'allergies':['pollon','dust'],'contact_details': {'email':'samirdahal@gmail.com','ph_number':'999999999999'}} # i dont have name here\n",
    "\n",
    "patient1 = Patient(**patient_info)\n",
    "\n",
    "insert_patient_data(patient1)\n",
    "weight_patient_data(patient1)"
   ]
  },
  {
   "cell_type": "markdown",
   "id": "9d791502",
   "metadata": {},
   "source": [
    "- If we want some field required and some field oprional then how can we do that ?\n",
    "    - we can use optional"
   ]
  },
  {
   "cell_type": "code",
   "execution_count": null,
   "id": "88db6fd1",
   "metadata": {},
   "outputs": [
    {
     "name": "stdout",
     "output_type": "stream",
     "text": [
      "nitish\n",
      "22\n",
      "insert\n",
      "nitish\n",
      "22\n",
      "{'email': 'samirdahal@gmail.com', 'ph_number': '999999999999'}\n",
      "None\n",
      "insert\n"
     ]
    }
   ],
   "source": [
    "from pydantic import BaseModel\n",
    "from typing import List,Dict,Optional  # we have to import Optional\n",
    "\n",
    "\n",
    "\n",
    "class Patient(BaseModel):\n",
    "\n",
    "\n",
    "    name: str\n",
    "    age : int\n",
    "    weight : float\n",
    "    married :bool = False # we can set default value here as well\n",
    "    \n",
    "    # if we want this allergies field oprional then we can do this:\n",
    "    # When we make any field Optional Then we have to give one default value as well i.e None\n",
    "    allergies: Optional[List[str]]= None # like this we make it optional\n",
    "\n",
    "    contact_details : Dict[str,str]  \n",
    "\n",
    "\n",
    "def insert_patient_data(patient: Patient):\n",
    "\n",
    "    print(patient.name)\n",
    "    print(patient.age)\n",
    "  \n",
    "    print('insert')\n",
    "\n",
    "def weight_patient_data(patient: Patient):\n",
    "\n",
    "    print(patient.name)\n",
    "    print(patient.age)\n",
    "    print(patient.contact_details)\n",
    "    print(patient.allergies)# this is printted as None\n",
    "  \n",
    "    print('insert')\n",
    "\n",
    "# patient_info = {'name':'nitish','age':22,'weight':75.2,'married':True,'allergies':['pollon','dust'],'contact_details': {'email':'samirdahal@gmail.com','ph_number':'999999999999'}}\n",
    "\n",
    "# we are making allergies Optional so we will not pass here, it will show None\n",
    "patient_info = {'name':'nitish','age':22,'weight':75.2,'married':True,'contact_details': {'email':'samirdahal@gmail.com','ph_number':'999999999999'}}\n",
    "\n",
    "\n",
    "patient1 = Patient(**patient_info)\n",
    "\n",
    "insert_patient_data(patient1)\n",
    "weight_patient_data(patient1)"
   ]
  },
  {
   "cell_type": "markdown",
   "id": "2c6db102",
   "metadata": {},
   "source": [
    "- Use Optional when the field is not required, and use a default value to set what it should be if missing."
   ]
  },
  {
   "cell_type": "markdown",
   "id": "1f5ea723",
   "metadata": {},
   "source": [
    "# Data validation"
   ]
  },
  {
   "cell_type": "markdown",
   "id": "bd4d680c",
   "metadata": {},
   "source": [
    "- The data comming in those field , how we can check that they are correct\n",
    "\n",
    "\n"
   ]
  },
  {
   "cell_type": "code",
   "execution_count": 16,
   "id": "a81e04ae",
   "metadata": {},
   "outputs": [
    {
     "name": "stdout",
     "output_type": "stream",
     "text": [
      "nitish\n",
      "22\n",
      "insert\n",
      "nitish\n",
      "22\n",
      "abc@gamail.com\n",
      "{'ph_number': '999999999999'}\n",
      "['pollon', 'dust']\n",
      "insert\n"
     ]
    }
   ],
   "source": [
    "# pyandict give us some data types we can use them to validate data\n",
    "from pydantic import BaseModel,EmailStr #Emailstr for email validation\n",
    "from typing import List,Dict,Optional  \n",
    "\n",
    "\n",
    "\n",
    "class Patient(BaseModel):\n",
    "\n",
    "\n",
    "    name: str\n",
    "    email: EmailStr # Now email should be in right format if not it will generate error\n",
    "    age : int\n",
    "    weight : float\n",
    "    married :bool = False \n",
    "    allergies: Optional[List[str]]= None \n",
    "\n",
    "    contact_details : Dict[str,str]  \n",
    "\n",
    "\n",
    "def insert_patient_data(patient: Patient):\n",
    "\n",
    "    print(patient.name)\n",
    "    print(patient.age)\n",
    "  \n",
    "    print('insert')\n",
    "\n",
    "def weight_patient_data(patient: Patient):\n",
    "\n",
    "    print(patient.name)\n",
    "    print(patient.age)\n",
    "    print(patient.email)\n",
    "    print(patient.contact_details)\n",
    "    print(patient.allergies)\n",
    "  \n",
    "    print('insert')\n",
    "\n",
    "patient_info = {'name':'nitish','email':'abc@gamail.com','age':22,'weight':75.2,'married':True,'allergies':['pollon','dust'],'contact_details': {'ph_number':'999999999999'}}\n",
    "\n",
    "# we dont have @ sign in email here so it generate error\n",
    "# patient_info = {'name':'nitish','email':'abcgamail.com','age':22,'weight':75.2,'married':True,'allergies':['pollon','dust'],'contact_details': {'ph_number':'999999999999'}}\n",
    "\n",
    "\n",
    "\n",
    "patient1 = Patient(**patient_info)\n",
    "\n",
    "insert_patient_data(patient1)\n",
    "weight_patient_data(patient1)"
   ]
  },
  {
   "cell_type": "code",
   "execution_count": 5,
   "id": "1a83f052",
   "metadata": {},
   "outputs": [
    {
     "name": "stdout",
     "output_type": "stream",
     "text": [
      "nitish\n",
      "22\n",
      "insert\n",
      "nitish\n",
      "22\n",
      "abc@gamail.com\n",
      "{'ph_number': '999999999999'}\n",
      "['pollon', 'dust']\n",
      "https://github.com/samirdahal888/fastapi/blob/master/pydantic_learning.ipynb\n",
      "insert\n"
     ]
    }
   ],
   "source": [
    "# pyandict give us some data types we can use them to validate data\n",
    "# if we are taking url as input then to validate that the url is in correct format we can use AnyUrl\n",
    "\n",
    "from pydantic import BaseModel,EmailStr,AnyUrl #importing anyurl to validate the url format\n",
    "from typing import List,Dict,Optional  \n",
    "\n",
    "\n",
    "\n",
    "class Patient(BaseModel):\n",
    "\n",
    "\n",
    "    name: str\n",
    "    email: EmailStr \n",
    "    Linkedin_url: AnyUrl # LinkedIn_url should be of AnyUrl type\n",
    "    age : int\n",
    "    weight : float\n",
    "    married :bool = False \n",
    "    allergies: Optional[List[str]]= None \n",
    "\n",
    "    contact_details : Dict[str,str]  \n",
    "\n",
    "\n",
    "def insert_patient_data(patient: Patient):\n",
    "\n",
    "    print(patient.name)\n",
    "    print(patient.age)\n",
    "  \n",
    "    print('insert')\n",
    "\n",
    "def weight_patient_data(patient: Patient):\n",
    "\n",
    "    print(patient.name)\n",
    "    print(patient.age)\n",
    "    print(patient.email)\n",
    "    print(patient.contact_details)\n",
    "    print(patient.allergies)\n",
    "    print(patient.Linkedin_url)\n",
    "  \n",
    "    print('insert')\n",
    "\n",
    "patient_info = {'name':'nitish','email':'abc@gamail.com','age':22,'weight':75.2,'married':True,'allergies':['pollon','dust'],'contact_details': {'ph_number':'999999999999'},'Linkedin_url':'https://github.com/samirdahal888/fastapi/blob/master/pydantic_learning.ipynb'}\n",
    "\n",
    "# we dont have some thing else then proper url then it will rise an error\n",
    "# patient_info = {'name':'nitish','email':'abc@gamail.com','age':22,'weight':75.2,'married':True,'allergies':['pollon','dust'],'contact_details': {'ph_number':'999999999999'},'Linkedin_url':'httpsgithub.com/samirdahal888/fastapi/blob/master/pydantic_learning.ipynb'}\n",
    "\n",
    "\n",
    "\n",
    "patient1 = Patient(**patient_info)\n",
    "\n",
    "insert_patient_data(patient1)\n",
    "weight_patient_data(patient1)"
   ]
  },
  {
   "cell_type": "markdown",
   "id": "09a2f537",
   "metadata": {},
   "source": [
    "# Others Methods to validate data"
   ]
  },
  {
   "cell_type": "code",
   "execution_count": null,
   "id": "5c27dc90",
   "metadata": {},
   "outputs": [],
   "source": [
    "# if we add more validation as our requirements\n",
    "\n",
    "\n",
    "# for like that validation Pydantic give us function name Field \n",
    "\n",
    "# we can use Field in Both Numeric and string both type of Data types\n",
    "\n",
    "from pydantic import BaseModel,EmailStr,AnyUrl,Field # importing Field over here\n",
    "from typing import List,Dict,Optional  \n",
    "\n",
    "\n",
    "\n",
    "class Patient(BaseModel):\n",
    "\n",
    "    # we can add constrain to the string as well\n",
    "    name: str = Field(max_length=50)\n",
    "\n",
    "    email: EmailStr \n",
    "    Linkedin_url: AnyUrl\n",
    "\n",
    "    #age should be greater then 0 and less then 120\n",
    "    age : int = Field(gt=0,lt=120)\n",
    "\n",
    "    #making weight greater the 0 \n",
    "    weight : float= Field(gt=0) # we add a constrain that weight should be greater then 0\n",
    "    married :bool = False \n",
    "\n",
    "    # we can do it for list as well\n",
    "    allergies: Optional[List[str]]= Field(max_length=5) # list should only have 5 elements\n",
    "\n",
    "    contact_details : Dict[str,str]  \n",
    "\n",
    "\n",
    "def insert_patient_data(patient: Patient):\n",
    "\n",
    "    print(patient.name)\n",
    "    print(patient.age)\n",
    "  \n",
    "    print('insert')\n",
    "\n",
    "def weight_patient_data(patient: Patient):\n",
    "\n",
    "    print(patient.name)\n",
    "    print(patient.age)\n",
    "    print(patient.email)\n",
    "    print(patient.contact_details)\n",
    "    print(patient.allergies)\n",
    "    print(patient.Linkedin_url)\n",
    "  \n",
    "    print('insert')\n",
    "\n",
    "patient_info = {'name':'nitish','email':'abc@gamail.com','age':22,'weight':75.2,'married':True,'allergies':['pollon','dust'],'contact_details': {'ph_number':'999999999999'},'Linkedin_url':'https://github.com/samirdahal888/fastapi/blob/master/pydantic_learning.ipynb'}\n",
    "\n",
    "patient1 = Patient(**patient_info)\n",
    "\n",
    "insert_patient_data(patient1)\n",
    "weight_patient_data(patient1)"
   ]
  },
  {
   "cell_type": "markdown",
   "id": "ff732e64",
   "metadata": {},
   "source": [
    "### Field Function is not only use for data validation , it is use to attach metadata"
   ]
  },
  {
   "cell_type": "code",
   "execution_count": 7,
   "id": "5462e3b6",
   "metadata": {},
   "outputs": [
    {
     "name": "stdout",
     "output_type": "stream",
     "text": [
      "nitish\n",
      "22\n",
      "insert\n",
      "nitish\n",
      "22\n",
      "abc@gamail.com\n",
      "{'ph_number': '999999999999'}\n",
      "['pollon', 'dust']\n",
      "https://github.com/samirdahal888/fastapi/blob/master/pydantic_learning.ipynb\n",
      "insert\n"
     ]
    }
   ],
   "source": [
    "   # if we want to add some discription to this fields then we can do that\n",
    "   # lets see how we can attach metadata using Field\n",
    "\n",
    "from pydantic import BaseModel,EmailStr,AnyUrl,Field \n",
    "from typing import List,Dict,Optional ,Annotated # we will use anotation and Field combinely to attach metadata\n",
    "\n",
    "\n",
    "\n",
    "class Patient(BaseModel):\n",
    "\n",
    "\n",
    "\n",
    "    #like this we can use it\n",
    "    name: Annotated[str,Field(max_length=50,title='Name of the patient',description='Give the name of the patient in less then 50 character',examples=['Samir','Amit'])]\n",
    "\n",
    "    email: EmailStr \n",
    "    Linkedin_url: AnyUrl\n",
    "    age : int = Field(gt=0,lt=120)\n",
    "\n",
    "    \n",
    "    weight : float= Field(gt=0) \n",
    "    \n",
    "    # we can also set default values\n",
    "    married :Annotated[bool,Field(default=True,description='is the patient married or not ')]\n",
    "\n",
    "    allergies: Optional[List[str]]= Field(max_length=5)\n",
    "\n",
    "    contact_details : Dict[str,str]  \n",
    "\n",
    "\n",
    "def insert_patient_data(patient: Patient):\n",
    "\n",
    "    print(patient.name)\n",
    "    print(patient.age)\n",
    "  \n",
    "    print('insert')\n",
    "\n",
    "def weight_patient_data(patient: Patient):\n",
    "\n",
    "    print(patient.name)\n",
    "    print(patient.age)\n",
    "    print(patient.email)\n",
    "    print(patient.contact_details)\n",
    "    print(patient.allergies)\n",
    "    print(patient.Linkedin_url)\n",
    "  \n",
    "    print('insert')\n",
    "\n",
    "patient_info = {'name':'nitish','email':'abc@gamail.com','age':22,'weight':75.2,'married':True,'allergies':['pollon','dust'],'contact_details': {'ph_number':'999999999999'},'Linkedin_url':'https://github.com/samirdahal888/fastapi/blob/master/pydantic_learning.ipynb'}\n",
    "\n",
    "patient1 = Patient(**patient_info)\n",
    "\n",
    "insert_patient_data(patient1)\n",
    "weight_patient_data(patient1)"
   ]
  },
  {
   "cell_type": "markdown",
   "id": "3c7b4b02",
   "metadata": {},
   "source": [
    "- we have done three things with the field function , they are \n",
    "    - custom data validation\n",
    "    -  metadata\n",
    "    - Default value"
   ]
  },
  {
   "cell_type": "code",
   "execution_count": 10,
   "id": "72e0bb81",
   "metadata": {},
   "outputs": [
    {
     "ename": "ValidationError",
     "evalue": "1 validation error for Patient\nweight\n  Input should be a valid number [type=float_type, input_value='75.2', input_type=str]\n    For further information visit https://errors.pydantic.dev/2.11/v/float_type",
     "output_type": "error",
     "traceback": [
      "\u001b[31m---------------------------------------------------------------------------\u001b[39m",
      "\u001b[31mValidationError\u001b[39m                           Traceback (most recent call last)",
      "\u001b[36mCell\u001b[39m\u001b[36m \u001b[39m\u001b[32mIn[10]\u001b[39m\u001b[32m, line 56\u001b[39m\n\u001b[32m     50\u001b[39m \u001b[38;5;66;03m# patient_info = {'name':'nitish','email':'abc@gamail.com','age':22,'weight':75.2,'married':True,'allergies':['pollon','dust'],'contact_details': {'ph_number':'999999999999'},'Linkedin_url':'https://github.com/samirdahal888/fastapi/blob/master/pydantic_learning.ipynb'}\u001b[39;00m\n\u001b[32m     51\u001b[39m \n\u001b[32m     52\u001b[39m \u001b[38;5;66;03m#weight is send in string \u001b[39;00m\n\u001b[32m     53\u001b[39m patient_info = {\u001b[33m'\u001b[39m\u001b[33mname\u001b[39m\u001b[33m'\u001b[39m:\u001b[33m'\u001b[39m\u001b[33mnitish\u001b[39m\u001b[33m'\u001b[39m,\u001b[33m'\u001b[39m\u001b[33memail\u001b[39m\u001b[33m'\u001b[39m:\u001b[33m'\u001b[39m\u001b[33mabc@gamail.com\u001b[39m\u001b[33m'\u001b[39m,\u001b[33m'\u001b[39m\u001b[33mage\u001b[39m\u001b[33m'\u001b[39m:\u001b[32m22\u001b[39m,\u001b[33m'\u001b[39m\u001b[33mweight\u001b[39m\u001b[33m'\u001b[39m:\u001b[33m'\u001b[39m\u001b[33m75.2\u001b[39m\u001b[33m'\u001b[39m,\u001b[33m'\u001b[39m\u001b[33mmarried\u001b[39m\u001b[33m'\u001b[39m:\u001b[38;5;28;01mTrue\u001b[39;00m,\u001b[33m'\u001b[39m\u001b[33mallergies\u001b[39m\u001b[33m'\u001b[39m:[\u001b[33m'\u001b[39m\u001b[33mpollon\u001b[39m\u001b[33m'\u001b[39m,\u001b[33m'\u001b[39m\u001b[33mdust\u001b[39m\u001b[33m'\u001b[39m],\u001b[33m'\u001b[39m\u001b[33mcontact_details\u001b[39m\u001b[33m'\u001b[39m: {\u001b[33m'\u001b[39m\u001b[33mph_number\u001b[39m\u001b[33m'\u001b[39m:\u001b[33m'\u001b[39m\u001b[33m999999999999\u001b[39m\u001b[33m'\u001b[39m},\u001b[33m'\u001b[39m\u001b[33mLinkedin_url\u001b[39m\u001b[33m'\u001b[39m:\u001b[33m'\u001b[39m\u001b[33mhttps://github.com/samirdahal888/fastapi/blob/master/pydantic_learning.ipynb\u001b[39m\u001b[33m'\u001b[39m}\n\u001b[32m---> \u001b[39m\u001b[32m56\u001b[39m patient1 = \u001b[43mPatient\u001b[49m\u001b[43m(\u001b[49m\u001b[43m*\u001b[49m\u001b[43m*\u001b[49m\u001b[43mpatient_info\u001b[49m\u001b[43m)\u001b[49m\n\u001b[32m     58\u001b[39m insert_patient_data(patient1)\n\u001b[32m     59\u001b[39m weight_patient_data(patient1)\n",
      "\u001b[36mFile \u001b[39m\u001b[32m~/fastapi/myenv/lib/python3.12/site-packages/pydantic/main.py:253\u001b[39m, in \u001b[36mBaseModel.__init__\u001b[39m\u001b[34m(self, **data)\u001b[39m\n\u001b[32m    251\u001b[39m \u001b[38;5;66;03m# `__tracebackhide__` tells pytest and some other tools to omit this function from tracebacks\u001b[39;00m\n\u001b[32m    252\u001b[39m __tracebackhide__ = \u001b[38;5;28;01mTrue\u001b[39;00m\n\u001b[32m--> \u001b[39m\u001b[32m253\u001b[39m validated_self = \u001b[38;5;28;43mself\u001b[39;49m\u001b[43m.\u001b[49m\u001b[43m__pydantic_validator__\u001b[49m\u001b[43m.\u001b[49m\u001b[43mvalidate_python\u001b[49m\u001b[43m(\u001b[49m\u001b[43mdata\u001b[49m\u001b[43m,\u001b[49m\u001b[43m \u001b[49m\u001b[43mself_instance\u001b[49m\u001b[43m=\u001b[49m\u001b[38;5;28;43mself\u001b[39;49m\u001b[43m)\u001b[49m\n\u001b[32m    254\u001b[39m \u001b[38;5;28;01mif\u001b[39;00m \u001b[38;5;28mself\u001b[39m \u001b[38;5;129;01mis\u001b[39;00m \u001b[38;5;129;01mnot\u001b[39;00m validated_self:\n\u001b[32m    255\u001b[39m     warnings.warn(\n\u001b[32m    256\u001b[39m         \u001b[33m'\u001b[39m\u001b[33mA custom validator is returning a value other than `self`.\u001b[39m\u001b[38;5;130;01m\\n\u001b[39;00m\u001b[33m'\u001b[39m\n\u001b[32m    257\u001b[39m         \u001b[33m\"\u001b[39m\u001b[33mReturning anything other than `self` from a top level model validator isn\u001b[39m\u001b[33m'\u001b[39m\u001b[33mt supported when validating via `__init__`.\u001b[39m\u001b[38;5;130;01m\\n\u001b[39;00m\u001b[33m\"\u001b[39m\n\u001b[32m    258\u001b[39m         \u001b[33m'\u001b[39m\u001b[33mSee the `model_validator` docs (https://docs.pydantic.dev/latest/concepts/validators/#model-validators) for more details.\u001b[39m\u001b[33m'\u001b[39m,\n\u001b[32m    259\u001b[39m         stacklevel=\u001b[32m2\u001b[39m,\n\u001b[32m    260\u001b[39m     )\n",
      "\u001b[31mValidationError\u001b[39m: 1 validation error for Patient\nweight\n  Input should be a valid number [type=float_type, input_value='75.2', input_type=str]\n    For further information visit https://errors.pydantic.dev/2.11/v/float_type"
     ]
    }
   ],
   "source": [
    "# here we set the value of weight as float but when we pass it a  string it is smart enough it can convert it so the float\n",
    "# but it is not good for all times \n",
    "# so we can supress this using Field function\n",
    "\n",
    "from pydantic import BaseModel,EmailStr,AnyUrl,Field \n",
    "from typing import List,Dict,Optional ,Annotated \n",
    "\n",
    "\n",
    "\n",
    "class Patient(BaseModel):\n",
    "\n",
    "\n",
    "\n",
    "    name: Annotated[str,Field(max_length=50,title='Name of the patient',description='Give the name of the patient in less then 50 character',examples=['Samir','Amit'])]\n",
    "\n",
    "    email: EmailStr \n",
    "    Linkedin_url: AnyUrl\n",
    "    age : int = Field(gt=0,lt=120)\n",
    "\n",
    "    #here\n",
    "    # weight : float= Field(gt=0) \n",
    "\n",
    "    weight : Annotated[float,Field(gt=0,strict=True)] # this stric is saying that dont let to do type corsion\n",
    "    \n",
    "    married :Annotated[bool,Field(default=True,description='is the patient married or not ')]\n",
    "\n",
    "    allergies: Optional[List[str]]= Field(max_length=5)\n",
    "\n",
    "    contact_details : Dict[str,str]  \n",
    "\n",
    "\n",
    "def insert_patient_data(patient: Patient):\n",
    "\n",
    "    print(patient.name)\n",
    "    print(patient.age)\n",
    "  \n",
    "    print('insert')\n",
    "\n",
    "def weight_patient_data(patient: Patient):\n",
    "\n",
    "    print(patient.name)\n",
    "    print(patient.age)\n",
    "    print(patient.email)\n",
    "    print(patient.contact_details)\n",
    "    print(patient.allergies)\n",
    "    print(patient.Linkedin_url)\n",
    "  \n",
    "    print('insert')\n",
    "\n",
    "# patient_info = {'name':'nitish','email':'abc@gamail.com','age':22,'weight':75.2,'married':True,'allergies':['pollon','dust'],'contact_details': {'ph_number':'999999999999'},'Linkedin_url':'https://github.com/samirdahal888/fastapi/blob/master/pydantic_learning.ipynb'}\n",
    "\n",
    "#weight is send in string \n",
    "patient_info = {'name':'nitish','email':'abc@gamail.com','age':22,'weight':'75.2','married':True,'allergies':['pollon','dust'],'contact_details': {'ph_number':'999999999999'},'Linkedin_url':'https://github.com/samirdahal888/fastapi/blob/master/pydantic_learning.ipynb'}\n",
    "\n",
    "\n",
    "patient1 = Patient(**patient_info)\n",
    "\n",
    "insert_patient_data(patient1)\n",
    "weight_patient_data(patient1)"
   ]
  },
  {
   "cell_type": "code",
   "execution_count": null,
   "id": "24209a60",
   "metadata": {},
   "outputs": [],
   "source": []
  }
 ],
 "metadata": {
  "kernelspec": {
   "display_name": "myenv",
   "language": "python",
   "name": "python3"
  },
  "language_info": {
   "codemirror_mode": {
    "name": "ipython",
    "version": 3
   },
   "file_extension": ".py",
   "mimetype": "text/x-python",
   "name": "python",
   "nbconvert_exporter": "python",
   "pygments_lexer": "ipython3",
   "version": "3.12.3"
  }
 },
 "nbformat": 4,
 "nbformat_minor": 5
}
